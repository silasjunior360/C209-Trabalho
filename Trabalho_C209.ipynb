{
 "cells": [
  {
   "cell_type": "markdown",
   "metadata": {},
   "source": [
    "## BIBLIOTECAS\n"
   ]
  },
  {
   "cell_type": "code",
   "execution_count": 1,
   "metadata": {},
   "outputs": [],
   "source": [
    "import moviepy.editor as mpe\n",
    "import numpy as np"
   ]
  },
  {
   "cell_type": "code",
   "execution_count": null,
   "metadata": {},
   "outputs": [
    {
     "name": "stdout",
     "output_type": "stream",
     "text": [
      "Duração: 195.65 segundos\n",
      "FPS: 30.0\n",
      "Duração: 195.65 segundos\n",
      "Número de frames: 5870\n"
     ]
    }
   ],
   "source": [
    "video = mpe.VideoFileClip(\"Trabalho.mp4\")\n",
    "print('FPS:', video.fps)\n",
    "print('Duração:', video.duration, 'segundos')\n",
    "print('Número de frames:', video.reader.nframes)"
   ]
  },
  {
   "cell_type": "markdown",
   "metadata": {},
   "source": [
    "# Definir a função para inverter a imagem a cada 20 segundos"
   ]
  },
  {
   "cell_type": "code",
   "execution_count": 3,
   "metadata": {},
   "outputs": [
    {
     "name": "stdout",
     "output_type": "stream",
     "text": [
      "Moviepy - Building video video_2.mp4.\n",
      "MoviePy - Writing audio in video_2TEMP_MPY_wvf_snd.mp4\n"
     ]
    },
    {
     "name": "stderr",
     "output_type": "stream",
     "text": [
      "                                                                      \r"
     ]
    },
    {
     "name": "stdout",
     "output_type": "stream",
     "text": [
      "MoviePy - Done.\n",
      "Moviepy - Writing video video_2.mp4\n",
      "\n"
     ]
    },
    {
     "name": "stderr",
     "output_type": "stream",
     "text": [
      "                                                                \r"
     ]
    },
    {
     "name": "stdout",
     "output_type": "stream",
     "text": [
      "Moviepy - Done !\n",
      "Moviepy - video ready video_2.mp4\n"
     ]
    }
   ],
   "source": [
    "\n",
    "def flip_frame(gf, t):\n",
    "    if int(t // 20) % 2 == 1:  \n",
    "        return np.flipud(gf(t))  \n",
    "    else:\n",
    "        return gf(t)  \n",
    "    \n",
    "flipped_video = video.fl(lambda gf, t: flip_frame(gf, t))\n",
    "\n",
    "flipped_video.write_videofile(\"video_2.mp4\", codec=\"libx264\", audio_codec=\"aac\")"
   ]
  },
  {
   "cell_type": "markdown",
   "metadata": {},
   "source": [
    "# Diminiur o som, de forma gradativa, a cada 30 segundos, de forma que os últimos 10 segundos fique em silêncio (sem som)"
   ]
  },
  {
   "cell_type": "code",
   "execution_count": null,
   "metadata": {},
   "outputs": [
    {
     "name": "stdout",
     "output_type": "stream",
     "text": [
      "Moviepy - Building video video_3.mp4.\n",
      "MoviePy - Writing audio in video_3TEMP_MPY_wvf_snd.mp4\n"
     ]
    },
    {
     "name": "stderr",
     "output_type": "stream",
     "text": [
      "                                                                      \r"
     ]
    },
    {
     "name": "stdout",
     "output_type": "stream",
     "text": [
      "MoviePy - Done.\n",
      "Moviepy - Writing video video_3.mp4\n",
      "\n"
     ]
    },
    {
     "name": "stderr",
     "output_type": "stream",
     "text": [
      "                                                                \r"
     ]
    },
    {
     "name": "stdout",
     "output_type": "stream",
     "text": [
      "Moviepy - Done !\n",
      "Moviepy - video ready video_3.mp4\n"
     ]
    }
   ],
   "source": [
    "\n",
    "video = mpe.VideoFileClip(\"video_2.mp4\")\n",
    "\n",
    "def decrease_audio(audio, t, video_duration):\n",
    "    frame = audio(t)  \n",
    "    # Verifica se t é um único valor ou um array\n",
    "    t = t if isinstance(t, (int, float)) else t[0]\n",
    "     # Calcula o fator de redução do áudio (diminuir a cada 30 segundos)\n",
    "    reduction_factor = 1 - min(t / video_duration, 1)  # Reduz até o final do vídeo\n",
    "    \n",
    "    # últimos 10 segundos o áudio vai para 0\n",
    "    if video_duration - t <= 10:\n",
    "        reduction_factor = 0  \n",
    "    \n",
    "    frame[:, 0] *= reduction_factor\n",
    "    frame[:, 1] *= reduction_factor\n",
    "    \n",
    "    return frame\n",
    "\n",
    "video_duration = video.duration  # Duraçao do video\n",
    "\n",
    "def apply_audio_decrease(audio, t):\n",
    "    return decrease_audio(audio, t, video_duration)\n",
    "\n",
    "\n",
    "audio_decrease = video.audio.fl(apply_audio_decrease)\n",
    "video_audio_decrease = video.set_audio(audio_decrease)\n",
    "\n",
    "video_audio_decrease.write_videofile(\"video_3.mp4\", codec=\"libx264\", audio_codec=\"aac\")\n"
   ]
  },
  {
   "cell_type": "markdown",
   "metadata": {},
   "source": [
    "# Após o primeiro minuto, 60 segundos, fazer um corte para o segundo 80 "
   ]
  },
  {
   "cell_type": "code",
   "execution_count": null,
   "metadata": {},
   "outputs": [
    {
     "name": "stdout",
     "output_type": "stream",
     "text": [
      "Moviepy - Building video video_4.mp4.\n",
      "MoviePy - Writing audio in video_4TEMP_MPY_wvf_snd.mp3\n"
     ]
    },
    {
     "name": "stderr",
     "output_type": "stream",
     "text": [
      "                                                                      \r"
     ]
    },
    {
     "name": "stdout",
     "output_type": "stream",
     "text": [
      "MoviePy - Done.\n",
      "Moviepy - Writing video video_4.mp4\n",
      "\n"
     ]
    },
    {
     "name": "stderr",
     "output_type": "stream",
     "text": [
      "                                                                 \r"
     ]
    },
    {
     "name": "stdout",
     "output_type": "stream",
     "text": [
      "Moviepy - Done !\n",
      "Moviepy - video ready video_4.mp4\n"
     ]
    }
   ],
   "source": [
    "video = mpe.VideoFileClip(\"video_3.mp4\")\n",
    "\n",
    "part_1 = video.subclip(0, 60)\n",
    "part_2 = video.subclip(60, 80)\n",
    "part_3 = video.subclip(80, 186.62)\n",
    "\n",
    "parts = mpe.concatenate_videoclips([part_1, part_3])\n",
    "parts.write_videofile('video_4.mp4')"
   ]
  },
  {
   "cell_type": "markdown",
   "metadata": {},
   "source": [
    "# Por fim, insira os 20 segundos cortados acima no fim do video"
   ]
  },
  {
   "cell_type": "code",
   "execution_count": 8,
   "metadata": {},
   "outputs": [
    {
     "name": "stdout",
     "output_type": "stream",
     "text": [
      "Moviepy - Building video video_5.mp4.\n",
      "MoviePy - Writing audio in video_5TEMP_MPY_wvf_snd.mp3\n"
     ]
    },
    {
     "name": "stderr",
     "output_type": "stream",
     "text": [
      "                                                                      \r"
     ]
    },
    {
     "name": "stdout",
     "output_type": "stream",
     "text": [
      "MoviePy - Done.\n",
      "Moviepy - Writing video video_5.mp4\n",
      "\n"
     ]
    },
    {
     "name": "stderr",
     "output_type": "stream",
     "text": [
      "                                                                \r"
     ]
    },
    {
     "name": "stdout",
     "output_type": "stream",
     "text": [
      "Moviepy - Done !\n",
      "Moviepy - video ready video_5.mp4\n"
     ]
    }
   ],
   "source": [
    "parts = mpe.concatenate_videoclips([part_1, part_3,part_2])\n",
    "parts.write_videofile('video_5.mp4')"
   ]
  }
 ],
 "metadata": {
  "kernelspec": {
   "display_name": "Python 3",
   "language": "python",
   "name": "python3"
  },
  "language_info": {
   "codemirror_mode": {
    "name": "ipython",
    "version": 3
   },
   "file_extension": ".py",
   "mimetype": "text/x-python",
   "name": "python",
   "nbconvert_exporter": "python",
   "pygments_lexer": "ipython3",
   "version": "3.13.0"
  }
 },
 "nbformat": 4,
 "nbformat_minor": 2
}
